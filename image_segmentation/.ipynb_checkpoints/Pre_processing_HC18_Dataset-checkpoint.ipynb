{
 "cells": [
  {
   "cell_type": "markdown",
   "metadata": {
    "id": "NwBa5n6vJJC4"
   },
   "source": [
    "### **Pre-processing HC18 Dataset**\n",
    "\n",
    "**Description:** In this notebook, we provide the codes for:\n",
    "\n",
    "1.   Functions to pre-process images\n",
    "2.   Running image pre-processing over HC18 dataset\n",
    "3.   Saving images to new folder"
   ]
  },
  {
   "cell_type": "markdown",
   "metadata": {
    "id": "LvmCE0MBdijo"
   },
   "source": [
    "**STEP 1 - Functions to pre-process images and masks**"
   ]
  },
  {
   "cell_type": "code",
   "execution_count": 4,
   "metadata": {
    "colab": {
     "base_uri": "https://localhost:8080/"
    },
    "id": "l0xSkJSBKcUw",
    "outputId": "179a5407-f8d7-45f4-c930-0c1a82ae6f29"
   },
   "outputs": [
    {
     "name": "stdout",
     "output_type": "stream",
     "text": [
      "Looking in indexes: https://pypi.org/simple, https://us-python.pkg.dev/colab-wheels/public/simple/\n",
      "Requirement already satisfied: SimpleITK in /usr/local/lib/python3.7/dist-packages (2.1.1.2)\n"
     ]
    }
   ],
   "source": [
    "!pip install SimpleITK\n",
    "\n",
    "import SimpleITK as sitk\n",
    "import numpy as np\n",
    "import os\n",
    "import PIL\n",
    "import pandas as pd\n",
    "import matplotlib.pyplot as plt\n",
    "import cv2\n",
    "\n",
    "\n",
    "def resize_image(nump_image, orig_spacing, new_spacing, new_size):\n",
    "\n",
    "  '''This function re-samples an image to a new spacing and crops it to a  newvsize by using SimpleITK linear interpolation method. \n",
    "  nump_image: numpy array containing the image to process\n",
    "  orig_spacing: original pixels size in mm\n",
    "  new_spacing: spacing for re-sampling\n",
    "  new_size: new_size to which crop the nump_image\n",
    "\n",
    "  Return: a numpy array with the processed image\n",
    "  '''\n",
    "\n",
    "  image = sitk.GetImageFromArray(nump_image) # transform numpy array to SITK image\n",
    "  image.SetSpacing(orig_spacing)\n",
    "\n",
    "  resample = sitk.ResampleImageFilter()\n",
    "  resample.SetInterpolator(sitk.sitkLinear) # Linear interpolation\n",
    "\n",
    "  resample.SetOutputDirection(image.GetDirection())\n",
    "  resample.SetOutputOrigin(image.GetOrigin())\n",
    "  resample.SetOutputSpacing(new_spacing)\n",
    "\n",
    "  # crop to new_size\n",
    "  orig_size = np.array(image.GetSize(), dtype=np.int)\n",
    "  resample.SetSize(new_size)\n",
    "  newimage = resample.Execute(image)\n",
    "\n",
    "  return newimage\n",
    "\n",
    "def format_masks(img):\n",
    "  '''This function creates a mask from an image which only contains segmentation contours.\n",
    "    img: the image as numpy array \n",
    "\n",
    "    return: a numpy array with the processed image\n",
    "  '''\n",
    "\n",
    "  thresh = ((img>0)*255).astype(np.uint8) # ensure the contour is binary\n",
    "\n",
    "  h,w = thresh.shape\n",
    "  mask = np.zeros((h+2,w+2)).astype(np.uint8) #template mask\n",
    "\n",
    "  _ = cv2.floodFill(thresh, mask, (0,0), (255,255,255)) # fill the outside of segmentation contours with 1\n",
    "  img = (((1 - mask)>0)*255).astype(np.uint8) # get the mask as 1 inside the contours and 0 outside\n",
    "\n",
    "  return img\n",
    "  "
   ]
  },
  {
   "cell_type": "markdown",
   "metadata": {
    "id": "YwhRoW7KaGuT"
   },
   "source": [
    "**STEP 2 - For loop to pre-proces the images**"
   ]
  },
  {
   "cell_type": "code",
   "execution_count": 5,
   "metadata": {
    "colab": {
     "base_uri": "https://localhost:8080/"
    },
    "id": "Jvhtd-5E63d0",
    "outputId": "21d600d8-def9-443d-b605-3e4b992514a5"
   },
   "outputs": [
    {
     "name": "stderr",
     "output_type": "stream",
     "text": [
      "/usr/local/lib/python3.7/dist-packages/ipykernel_launcher.py:32: DeprecationWarning: `np.int` is a deprecated alias for the builtin `int`. To silence this warning, use `int` by itself. Doing this will not modify any behavior and is safe. When replacing `np.int`, you may wish to use e.g. `np.int64` or `np.int32` to specify the precision. If you wish to review your current use, check the release note link for additional information.\n",
      "Deprecated in NumPy 1.20; for more details and guidance: https://numpy.org/devdocs/release/1.20.0-notes.html#deprecations\n"
     ]
    }
   ],
   "source": [
    "images = []\n",
    "masks = []\n",
    "filenames = []\n",
    "\n",
    "mainpath = './Data/data_from_zenodo_org_record_1327317'\n",
    "\n",
    "# images files\n",
    "readpath = mainpath+'/training_set/'\n",
    "files = os.listdir(readpath)\n",
    "files.sort()\n",
    "\n",
    "# data for pixels spacing in mm\n",
    "img_sizes = pd.read_csv(mainpath+'/training_set_pixel_size_and_HC.csv')\n",
    "\n",
    "for filename in files:\n",
    "\n",
    "  img = np.array(PIL.Image.open(readpath+filename))\n",
    "  imsize = float(img_sizes[img_sizes['filename'] == filename.replace('_Annotation','')]['pixel size(mm)'])\n",
    "  orig_spacing = [imsize, imsize]\n",
    "\n",
    "  if 'Annotation' in filename:\n",
    "    img = format_masks(img)\n",
    "  img = sitk.GetArrayFromImage(resize_image(img, orig_spacing, [0.35, 0.35],\n",
    "                                            new_size=[256,256]))\n",
    "  \n",
    "  if 'Annotation' in filename:\n",
    "    masks.append((img>0).astype(float))\n",
    "  else:\n",
    "    images.append(img)\n",
    "    filenames.append(filename)\n",
    "  "
   ]
  },
  {
   "cell_type": "markdown",
   "metadata": {
    "id": "Yvs3kqz_Zlo4"
   },
   "source": [
    "**STEP 3 - Save images to new folders**"
   ]
  },
  {
   "cell_type": "code",
   "execution_count": null,
   "metadata": {
    "id": "mR85cLQwYqt8"
   },
   "outputs": [],
   "source": [
    "savetrainpath = './Data/format_train/'\n",
    "savevalpath = './Data/format_val/'\n",
    "\n",
    "for k, file in enumerate(filenames): \n",
    "  if k%10 == 0: # original train val split : then changed through training loops (see the other notebooks)\n",
    "    savepath = savevalpath\n",
    "  else:\n",
    "    savepath = savetrainpath\n",
    "    \n",
    "  if not os.path.exists(savepath):\n",
    "      os.makedirs(savepath)\n",
    "    \n",
    "  cv2.imwrite(savepath+file,images[k])\n",
    "  cv2.imwrite(savepath+file.replace('.png','_Annotation.png'),masks[k])"
   ]
  }
 ],
 "metadata": {
  "colab": {
   "collapsed_sections": [],
   "name": "Pre-processing HC18 Dataset.ipynb",
   "provenance": []
  },
  "kernelspec": {
   "display_name": "Python 3",
   "language": "python",
   "name": "python3"
  },
  "language_info": {
   "codemirror_mode": {
    "name": "ipython",
    "version": 3
   },
   "file_extension": ".py",
   "mimetype": "text/x-python",
   "name": "python",
   "nbconvert_exporter": "python",
   "pygments_lexer": "ipython3",
   "version": "3.7.1"
  }
 },
 "nbformat": 4,
 "nbformat_minor": 1
}
